{
  "nbformat": 4,
  "nbformat_minor": 0,
  "metadata": {
    "colab": {
      "provenance": []
    },
    "kernelspec": {
      "name": "python3",
      "display_name": "Python 3"
    },
    "language_info": {
      "name": "python"
    }
  },
  "cells": [
    {
      "cell_type": "code",
      "execution_count": 1,
      "metadata": {
        "colab": {
          "base_uri": "https://localhost:8080/"
        },
        "id": "DUnSygCk1o5Y",
        "outputId": "ee2f4244-7cc5-42fa-ea49-ccb5e852ce1d"
      },
      "outputs": [
        {
          "output_type": "stream",
          "name": "stdout",
          "text": [
            "Collecting wikipedia-api\n",
            "  Downloading wikipedia_api-0.7.1.tar.gz (17 kB)\n",
            "  Preparing metadata (setup.py) ... \u001b[?25l\u001b[?25hdone\n",
            "Requirement already satisfied: requests in /usr/local/lib/python3.10/dist-packages (from wikipedia-api) (2.32.3)\n",
            "Requirement already satisfied: charset-normalizer<4,>=2 in /usr/local/lib/python3.10/dist-packages (from requests->wikipedia-api) (3.4.0)\n",
            "Requirement already satisfied: idna<4,>=2.5 in /usr/local/lib/python3.10/dist-packages (from requests->wikipedia-api) (3.10)\n",
            "Requirement already satisfied: urllib3<3,>=1.21.1 in /usr/local/lib/python3.10/dist-packages (from requests->wikipedia-api) (2.2.3)\n",
            "Requirement already satisfied: certifi>=2017.4.17 in /usr/local/lib/python3.10/dist-packages (from requests->wikipedia-api) (2024.8.30)\n",
            "Building wheels for collected packages: wikipedia-api\n",
            "  Building wheel for wikipedia-api (setup.py) ... \u001b[?25l\u001b[?25hdone\n",
            "  Created wheel for wikipedia-api: filename=Wikipedia_API-0.7.1-py3-none-any.whl size=14346 sha256=f1ab98eab1004aa47333dc2abb52ae77568a49fe06d45714116c37fbea1d20aa\n",
            "  Stored in directory: /root/.cache/pip/wheels/4c/96/18/b9201cc3e8b47b02b510460210cfd832ccf10c0c4dd0522962\n",
            "Successfully built wikipedia-api\n",
            "Installing collected packages: wikipedia-api\n",
            "Successfully installed wikipedia-api-0.7.1\n"
          ]
        }
      ],
      "source": [
        "pip install wikipedia-api"
      ]
    },
    {
      "cell_type": "code",
      "source": [
        "import wikipediaapi\n",
        "\n",
        "def fetch_wikipedia_data(keyword, lang='en'):\n",
        "    \"\"\"\n",
        "    Wikipedia API를 사용하여 키워드 관련 정보를 가져옴.\n",
        "    input: keyword (검색어), lang (언어: 'en', 'ko' 등)\n",
        "    output: title, summary, content\n",
        "    \"\"\"\n",
        "    wiki_wiki = wikipediaapi.Wikipedia('NLPproject',lang)\n",
        "    page = wiki_wiki.page(keyword)\n",
        "\n",
        "    return {\n",
        "        \"title\": page.title,\n",
        "        \"summary\": page.summary,\n",
        "        \"content\": page.text\n",
        "    }\n",
        "\n",
        "# 예제 실행\n",
        "keyword = \"World War I\"\n",
        "data = fetch_wikipedia_data(keyword)\n",
        "print(data[\"title\"])\n",
        "print(data['summary'])\n"
      ],
      "metadata": {
        "colab": {
          "base_uri": "https://localhost:8080/"
        },
        "id": "mspeWL3b1xdN",
        "outputId": "5daa0c45-5456-4151-d7c3-a14dce238633"
      },
      "execution_count": 4,
      "outputs": [
        {
          "output_type": "stream",
          "name": "stdout",
          "text": [
            "World War I\n",
            "World War I or the First World War (28 July 1914 – 11 November 1918), also known as the Great War, was a global conflict between two coalitions: the Allies (or Entente) and the Central Powers. Fighting took place mainly in Europe and the Middle East, as well as in parts of Africa and the Asia-Pacific, and in Europe was characterised by trench warfare and the use of artillery, machine guns, and chemical weapons (gas). World War I was one of the deadliest conflicts in history, resulting in an estimated 9 million military dead and 23 million wounded, plus up to 8 million civilian deaths from causes including genocide. The movement of large numbers of people was a major factor in the Spanish flu pandemic, which killed millions.\n",
            "The causes of World War I included the rise of Germany and decline of the Ottoman Empire, which disturbed the long-standing balance of power in Europe, as well as economic competition between nations triggered by industrialisation and imperialism. Growing tensions between the great powers and in the Balkans reached a breaking point on 28 June 1914, when a Bosnian Serb named Gavrilo Princip assassinated Archduke Franz Ferdinand, heir to the Austro-Hungarian throne. Austria-Hungary held Serbia responsible, and declared war on 28 July. After Russia mobilised in Serbia's defence, Germany declared war on Russia; by 4 August, France and the United Kingdom were drawn in, with the Ottomans joining in November. Germany's strategy in 1914 was to quickly defeat France, then to transfer its forces to the east. However, this failed, and by the end of the year the Western Front consisted of a continuous line of trenches stretching from the English Channel to Switzerland. The Eastern Front was more dynamic, but neither side gained a decisive advantage, despite costly offensives. Italy, Bulgaria, Romania, Greece and others joined in from 1915 onward.\n",
            "In April 1917, the United States entered the war on the Allied side following Germany's resumption of unrestricted submarine warfare against Atlantic shipping. Later that year, the Bolsheviks seized power in the Russian October Revolution; Soviet Russia signed an armistice with the Central Powers in December, followed by a separate peace in March 1918. That month, Germany launched an offensive in the west, which despite initial successes left the German Army exhausted and demoralised. A successful Allied counter-offensive from August 1918 caused a collapse of the German front line. By early November, Bulgaria, the Ottoman Empire and Austria-Hungary had each signed armistices with the Allies, leaving Germany isolated. Facing a revolution at home, Kaiser Wilhelm II abdicated on 9 November, and the war ended with the Armistice of 11 November 1918.\n",
            "The Paris Peace Conference of 1919–1920 imposed settlements on the defeated powers, most notably the Treaty of Versailles, by which Germany lost significant territories, was disarmed, and was required to pay large war reparations to the Allies. The dissolution of the Russian, German, Austro-Hungarian, and Ottoman Empires redrew national boundaries and resulted in the creation of new independent states, including Poland, Finland, the Baltic states, Czechoslovakia, and Yugoslavia. The League of Nations was established to maintain world peace, but its failure to manage instability during the interwar period contributed to the outbreak of World War II in 1939.\n"
          ]
        }
      ]
    },
    {
      "cell_type": "code",
      "source": [
        "def create_qa_pairs(wiki_data):\n",
        "    \"\"\"\n",
        "    Wikipedia 데이터를 QA Pair로 변환.\n",
        "    input: wiki_data (title, summary, content)\n",
        "    output: List of QA Pairs\n",
        "    \"\"\"\n",
        "    qa_pairs = []\n",
        "\n",
        "    # 요약에서 질문-답변 생성\n",
        "    question = f\"What is {wiki_data['title']}?\"\n",
        "    answer = wiki_data['summary']\n",
        "    qa_pairs.append({\"question\": question, \"answer\": answer})\n",
        "\n",
        "    # 본문에서 추가 질문-답변 생성\n",
        "    content_sentences = wiki_data['content'].split('. ')\n",
        "    for sentence in content_sentences[:5]:  # 첫 5문장 사용\n",
        "        question = f\"Explain: {sentence.strip()}\"\n",
        "        answer = sentence.strip()\n",
        "        qa_pairs.append({\"question\": question, \"answer\": answer})\n",
        "\n",
        "    return qa_pairs\n",
        "\n",
        "# 예제 실행\n",
        "qa_pairs = create_qa_pairs(data)\n",
        "for pair in qa_pairs:\n",
        "    print(pair)"
      ],
      "metadata": {
        "colab": {
          "base_uri": "https://localhost:8080/"
        },
        "id": "o48gXetC2Rox",
        "outputId": "44e389e2-9bd5-47f3-aa91-68fb741e3f0b"
      },
      "execution_count": 5,
      "outputs": [
        {
          "output_type": "stream",
          "name": "stdout",
          "text": [
            "{'question': 'What is World War I?', 'answer': \"World War I or the First World War (28 July 1914 – 11 November 1918), also known as the Great War, was a global conflict between two coalitions: the Allies (or Entente) and the Central Powers. Fighting took place mainly in Europe and the Middle East, as well as in parts of Africa and the Asia-Pacific, and in Europe was characterised by trench warfare and the use of artillery, machine guns, and chemical weapons (gas). World War I was one of the deadliest conflicts in history, resulting in an estimated 9 million military dead and 23 million wounded, plus up to 8 million civilian deaths from causes including genocide. The movement of large numbers of people was a major factor in the Spanish flu pandemic, which killed millions.\\nThe causes of World War I included the rise of Germany and decline of the Ottoman Empire, which disturbed the long-standing balance of power in Europe, as well as economic competition between nations triggered by industrialisation and imperialism. Growing tensions between the great powers and in the Balkans reached a breaking point on 28 June 1914, when a Bosnian Serb named Gavrilo Princip assassinated Archduke Franz Ferdinand, heir to the Austro-Hungarian throne. Austria-Hungary held Serbia responsible, and declared war on 28 July. After Russia mobilised in Serbia's defence, Germany declared war on Russia; by 4 August, France and the United Kingdom were drawn in, with the Ottomans joining in November. Germany's strategy in 1914 was to quickly defeat France, then to transfer its forces to the east. However, this failed, and by the end of the year the Western Front consisted of a continuous line of trenches stretching from the English Channel to Switzerland. The Eastern Front was more dynamic, but neither side gained a decisive advantage, despite costly offensives. Italy, Bulgaria, Romania, Greece and others joined in from 1915 onward.\\nIn April 1917, the United States entered the war on the Allied side following Germany's resumption of unrestricted submarine warfare against Atlantic shipping. Later that year, the Bolsheviks seized power in the Russian October Revolution; Soviet Russia signed an armistice with the Central Powers in December, followed by a separate peace in March 1918. That month, Germany launched an offensive in the west, which despite initial successes left the German Army exhausted and demoralised. A successful Allied counter-offensive from August 1918 caused a collapse of the German front line. By early November, Bulgaria, the Ottoman Empire and Austria-Hungary had each signed armistices with the Allies, leaving Germany isolated. Facing a revolution at home, Kaiser Wilhelm II abdicated on 9 November, and the war ended with the Armistice of 11 November 1918.\\nThe Paris Peace Conference of 1919–1920 imposed settlements on the defeated powers, most notably the Treaty of Versailles, by which Germany lost significant territories, was disarmed, and was required to pay large war reparations to the Allies. The dissolution of the Russian, German, Austro-Hungarian, and Ottoman Empires redrew national boundaries and resulted in the creation of new independent states, including Poland, Finland, the Baltic states, Czechoslovakia, and Yugoslavia. The League of Nations was established to maintain world peace, but its failure to manage instability during the interwar period contributed to the outbreak of World War II in 1939.\"}\n",
            "{'question': 'Explain: World War I or the First World War (28 July 1914 – 11 November 1918), also known as the Great War, was a global conflict between two coalitions: the Allies (or Entente) and the Central Powers', 'answer': 'World War I or the First World War (28 July 1914 – 11 November 1918), also known as the Great War, was a global conflict between two coalitions: the Allies (or Entente) and the Central Powers'}\n",
            "{'question': 'Explain: Fighting took place mainly in Europe and the Middle East, as well as in parts of Africa and the Asia-Pacific, and in Europe was characterised by trench warfare and the use of artillery, machine guns, and chemical weapons (gas)', 'answer': 'Fighting took place mainly in Europe and the Middle East, as well as in parts of Africa and the Asia-Pacific, and in Europe was characterised by trench warfare and the use of artillery, machine guns, and chemical weapons (gas)'}\n",
            "{'question': 'Explain: World War I was one of the deadliest conflicts in history, resulting in an estimated 9 million military dead and 23 million wounded, plus up to 8 million civilian deaths from causes including genocide', 'answer': 'World War I was one of the deadliest conflicts in history, resulting in an estimated 9 million military dead and 23 million wounded, plus up to 8 million civilian deaths from causes including genocide'}\n",
            "{'question': 'Explain: The movement of large numbers of people was a major factor in the Spanish flu pandemic, which killed millions.\\nThe causes of World War I included the rise of Germany and decline of the Ottoman Empire, which disturbed the long-standing balance of power in Europe, as well as economic competition between nations triggered by industrialisation and imperialism', 'answer': 'The movement of large numbers of people was a major factor in the Spanish flu pandemic, which killed millions.\\nThe causes of World War I included the rise of Germany and decline of the Ottoman Empire, which disturbed the long-standing balance of power in Europe, as well as economic competition between nations triggered by industrialisation and imperialism'}\n",
            "{'question': 'Explain: Growing tensions between the great powers and in the Balkans reached a breaking point on 28 June 1914, when a Bosnian Serb named Gavrilo Princip assassinated Archduke Franz Ferdinand, heir to the Austro-Hungarian throne', 'answer': 'Growing tensions between the great powers and in the Balkans reached a breaking point on 28 June 1914, when a Bosnian Serb named Gavrilo Princip assassinated Archduke Franz Ferdinand, heir to the Austro-Hungarian throne'}\n"
          ]
        }
      ]
    },
    {
      "cell_type": "code",
      "source": [
        "import csv\n",
        "\n",
        "def save_qa_to_csv(qa_pairs, file_path='qa_pairs.csv'):\n",
        "    \"\"\"\n",
        "    QA Pair 데이터를 CSV 파일로 저장.\n",
        "    \"\"\"\n",
        "    with open(file_path, mode='w', newline='', encoding='utf-8') as file:\n",
        "        writer = csv.DictWriter(file, fieldnames=['question', 'answer'])\n",
        "        writer.writeheader()\n",
        "        writer.writerows(qa_pairs)\n",
        "\n",
        "save_qa_to_csv(qa_pairs)"
      ],
      "metadata": {
        "id": "TtPn-qoX2UKY"
      },
      "execution_count": 6,
      "outputs": []
    }
  ]
}