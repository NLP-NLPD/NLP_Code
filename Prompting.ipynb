{
  "nbformat": 4,
  "nbformat_minor": 0,
  "metadata": {
    "colab": {
      "provenance": []
    },
    "kernelspec": {
      "name": "python3",
      "display_name": "Python 3"
    },
    "language_info": {
      "name": "python"
    }
  },
  "cells": [
    {
      "cell_type": "code",
      "execution_count": null,
      "metadata": {
        "id": "MAliDV15FPe-"
      },
      "outputs": [],
      "source": [
        "chat_prompt = ChatPromptTemplate.from_messages(\n",
        "    [\n",
        "        (\n",
        "            \"system\",\n",
        "            \"\"\"\n",
        "            You are a helpful assistant specializing in multiple domains, including Law, Psychology, Business, Philosophy, and History.\n",
        "            - Use domain-specific knowledge to answer questions.\n",
        "            - For Law: Focus on legal principles, case studies, and legal systems.\n",
        "            - For Psychology: Refer to established theories and practices like Maslow's hierarchy of needs or Freud's theories.\n",
        "            - For Business: Use management concepts like SWOT analysis, leadership styles, or marketing principles.\n",
        "            - For Philosophy: Discuss philosophical ideas, ethical dilemmas, and historical movements.\n",
        "            - For History: Provide accurate historical details, major events, and their significance.\n",
        "            Use concise, accurate, and detailed responses when answering.\n",
        "            \"\"\"\n",
        "        ),\n",
        "    ]\n",
        ")\n"
      ]
    },
    {
      "cell_type": "code",
      "source": [
        "chat_prompt = ChatPromptTemplate.from_messages(\n",
        "    [\n",
        "        (\n",
        "            \"system\",\n",
        "            \"\"\"\n",
        "            You are a helpful assistant specializing in multiple domains. Use the following context to guide your responses.\n",
        "            Context:\n",
        "            - Domain: {domain}\n",
        "            - Background: {background}\n",
        "            - Use the provided information to construct relevant and specific answers.\n",
        "            \"\"\"\n",
        "        ),\n",
        "        (\"human\", \"The domain is History. What is the significance of the French Revolution?\"),\n",
        "    ]\n",
        ")"
      ],
      "metadata": {
        "id": "x1UfwXqpKNth"
      },
      "execution_count": null,
      "outputs": []
    },
    {
      "cell_type": "code",
      "source": [
        "from langchain_core.prompts import PromptTemplate\n",
        "\n",
        "# 곱셈과 나눗셈 문제로 작성\n",
        "prompt_template = PromptTemplate.from_template(\n",
        "    \"\"\"\n",
        "Q: A factory produces 12 widgets every hour.\n",
        "If the factory operates for 8 hours a day and ships the widgets in boxes of 6,\n",
        "how many boxes of widgets does the factory ship in one day?\n",
        "\n",
        "A: the answer is\n",
        "\"\"\"\n",
        ")\n",
        "\n",
        "# Chain 정의\n",
        "chain = prompt_template | llm\n",
        "response = chain.invoke({})\n",
        "\n",
        "print(response.content)\n"
      ],
      "metadata": {
        "id": "A-qizjbnM053"
      },
      "execution_count": null,
      "outputs": []
    }
  ]
}